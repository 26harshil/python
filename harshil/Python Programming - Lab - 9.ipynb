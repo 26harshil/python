{
 "cells": [
  {
   "cell_type": "markdown",
   "metadata": {},
   "source": [
    "<a href='https://www.darshan.ac.in/'> <img src='https://www.darshan.ac.in/Content/media/DU_Logo.svg' width=\"250\" height=\"300\"/></a>\n",
    "<pre>\n",
    "<center><b><h1>Python Programming - 2301CS404</b></center>\n",
    "<center><b><h1>Lab - 9</b></center>    \n",
    "<pre>"
   ]
  },
  {
   "cell_type": "markdown",
   "metadata": {},
   "source": [
    "# File I/O"
   ]
  },
  {
   "cell_type": "markdown",
   "metadata": {},
   "source": [
    "### 01) WAP to read and display the contents of a text file. (also try to open the file in some other directory) \n",
    "#### - in the form of a string\n",
    "#### - line by line\n",
    "#### - in the form of a list"
   ]
  },
  {
   "cell_type": "code",
   "execution_count": 12,
   "metadata": {},
   "outputs": [
    {
     "name": "stdout",
     "output_type": "stream",
     "text": [
      "line by line [' jasmin\\n', ' manav']\n",
      "____________________________\n",
      " jasmin\n",
      " manav\n",
      " jasmin\n",
      " manav"
     ]
    }
   ],
   "source": [
    "fp =open(\"f1.txt\",'r')\n",
    "print(\"line by line\",fp.readlines())\n",
    "fp.seek(0)\n",
    "print(\"____________________________\")\n",
    "print(fp.read())\n",
    "fp.seek(0)\n",
    "\n"
   ]
  },
  {
   "cell_type": "code",
   "execution_count": 23,
   "metadata": {},
   "outputs": [
    {
     "name": "stdout",
     "output_type": "stream",
     "text": [
      " jasmin \n",
      " manav sdfsd dwqed wd\n",
      " meet vasu\n",
      " viraj  cutee\n",
      " meet pookie"
     ]
    }
   ],
   "source": [
    "fp =open(\"f1.txt\",'r')\n",
    "for i in fp:\n",
    "    print(i,end=\"\")\n",
    "fp.close()\n"
   ]
  },
  {
   "cell_type": "markdown",
   "metadata": {},
   "source": [
    "### 02) WAP to create file named \"new.txt\" only if it doesn't exist."
   ]
  },
  {
   "cell_type": "code",
   "execution_count": 20,
   "metadata": {},
   "outputs": [],
   "source": [
    "fp=open(\"new.txt\",'w+')\n"
   ]
  },
  {
   "cell_type": "markdown",
   "metadata": {},
   "source": [
    "### 03) WAP to read first 5 lines from the text file."
   ]
  },
  {
   "cell_type": "code",
   "execution_count": 28,
   "metadata": {},
   "outputs": [
    {
     "name": "stdout",
     "output_type": "stream",
     "text": [
      " jasmin \n",
      "\n",
      " manav zednfikeel\n",
      "\n",
      " meet vasu\n",
      "\n",
      " viraj  cutee\n",
      "\n",
      " meet pookie\n",
      "\n"
     ]
    }
   ],
   "source": [
    "fp= open('f1.txt','r')\n",
    "c=0\n",
    "for i  in fp:\n",
    "    if(c<5):\n",
    "        print(i)\n",
    "    c+=1\n",
    "fp.close()"
   ]
  },
  {
   "cell_type": "markdown",
   "metadata": {},
   "source": [
    "### 04) WAP to find the longest word(s) in a file"
   ]
  },
  {
   "cell_type": "code",
   "execution_count": 49,
   "metadata": {},
   "outputs": [
    {
     "name": "stdout",
     "output_type": "stream",
     "text": [
      "harshilskm,\n"
     ]
    }
   ],
   "source": [
    "fp = open(\"f1.txt\")\n",
    "l1 = fp.read().split()\n",
    "longest= max(l1,key = len)\n",
    "print(longest)\n",
    "fp.close()"
   ]
  },
  {
   "cell_type": "code",
   "execution_count": 38,
   "metadata": {},
   "outputs": [
    {
     "name": "stdout",
     "output_type": "stream",
     "text": [
      "Once deleted, variables cannot be recovered. Proceed (y/[n])? y\n"
     ]
    }
   ],
   "source": [
    "%reset\n"
   ]
  },
  {
   "cell_type": "markdown",
   "metadata": {},
   "source": [
    "### 05) WAP to count the no. of lines, words and characters in a given text file."
   ]
  },
  {
   "cell_type": "code",
   "execution_count": 55,
   "metadata": {},
   "outputs": [
    {
     "name": "stdout",
     "output_type": "stream",
     "text": [
      "count of lines 2\n",
      "count of word 3\n",
      "the number of char 21\n"
     ]
    }
   ],
   "source": [
    "fp = open(\"f1.txt\")\n",
    "c=0\n",
    "for i in fp:\n",
    "    c+=1\n",
    "fp.seek(0)\n",
    "\n",
    "word=0\n",
    "for i in fp.read().split():\n",
    "    word+=1\n",
    "fp.seek(0)\n",
    "char=0\n",
    "for i in fp.read().split():\n",
    "    char+=len(i)\n",
    "    \n",
    "print(\"count of lines\",c)\n",
    "print(\"count of word\",word)\n",
    "print(\"the number of char\", char)\n",
    "fp.close()"
   ]
  },
  {
   "cell_type": "markdown",
   "metadata": {},
   "source": [
    "### 06) WAP to copy the content of a file to the another file."
   ]
  },
  {
   "cell_type": "code",
   "execution_count": 57,
   "metadata": {},
   "outputs": [],
   "source": [
    "fp= open(\"f1.txt\")\n",
    "\n",
    "wf= open(\"newfile.txt\",'w')\n",
    "\n",
    "\n",
    "wf.write(fp.read())\n",
    "fp.close()\n",
    "wf.close()\n",
    "\n"
   ]
  },
  {
   "cell_type": "markdown",
   "metadata": {},
   "source": [
    "### 07) WAP to find the size of the text file. "
   ]
  },
  {
   "cell_type": "code",
   "execution_count": 60,
   "metadata": {},
   "outputs": [
    {
     "name": "stdout",
     "output_type": "stream",
     "text": [
      "27\n"
     ]
    }
   ],
   "source": [
    "fp = open('f1.txt')\n",
    "fp.seek(0,2)\n",
    "print(fp.tell())"
   ]
  },
  {
   "cell_type": "code",
   "execution_count": 61,
   "metadata": {},
   "outputs": [
    {
     "name": "stdout",
     "output_type": "stream",
     "text": [
      "Size of file : 27 bytes\n"
     ]
    }
   ],
   "source": [
    "import os\n",
    " \n",
    "file_size = os.stat('C:\\\\Users\\\\student\\\\Documents\\\\harshil\\\\f1.txt')\n",
    "print(\"Size of file :\", file_size.st_size, \"bytes\")"
   ]
  },
  {
   "cell_type": "markdown",
   "metadata": {},
   "source": [
    "### 08) WAP to create an UDF named frequency to count occurances of the specific word in a given text file."
   ]
  },
  {
   "cell_type": "code",
   "execution_count": 68,
   "metadata": {},
   "outputs": [
    {
     "name": "stdout",
     "output_type": "stream",
     "text": [
      "4\n"
     ]
    }
   ],
   "source": [
    "fp = open('f1.txt')\n",
    "\n",
    "def freq(word):\n",
    "    r=0\n",
    "    for i in fp.read().split():\n",
    "        if i == word :\n",
    "            r+=1\n",
    "    return r\n",
    "print(freq(\"manav\"))\n",
    "\n",
    "fp.close()"
   ]
  },
  {
   "cell_type": "code",
   "execution_count": null,
   "metadata": {},
   "outputs": [],
   "source": []
  },
  {
   "cell_type": "markdown",
   "metadata": {},
   "source": [
    "### 09) WAP to get the score of five subjects from the user, store them in a file. Fetch those marks and find the highest score."
   ]
  },
  {
   "cell_type": "code",
   "execution_count": 81,
   "metadata": {},
   "outputs": [
    {
     "name": "stdout",
     "output_type": "stream",
     "text": [
      "enter the marks1 : 23\n",
      "enter the marks2 : 56\n",
      "enter the marks3 : 98\n",
      "enter the marks4 : 12\n",
      "enter the marks5 : 36\n",
      "98\n"
     ]
    }
   ],
   "source": [
    "s1= input(\"enter the marks1 : \")\n",
    "s2= input(\"enter the marks2 : \")\n",
    "s3= input(\"enter the marks3 : \")\n",
    "s4= input(\"enter the marks4 : \")\n",
    "s5= input(\"enter the marks5 : \")\n",
    "\n",
    "fp = open(\"marks.txt\",\"w+\")\n",
    "\n",
    "fp.write(s1+\"\\n\")\n",
    "fp.write(s2+\"\\n\")\n",
    "fp.write(s3+\"\\n\")\n",
    "fp.write(s4+\"\\n\")\n",
    "fp.write(s5+\"\\n\")\n",
    "\n",
    "fp.seek(0)\n",
    "high=0\n",
    "for i in fp.read().split():\n",
    "     high=max(int(i),high)\n",
    "print(high)\n",
    "    \n",
    "fp.close()\n",
    "\n"
   ]
  },
  {
   "cell_type": "markdown",
   "metadata": {},
   "source": [
    "### 10) WAP to write first 100 prime numbers to a file named primenumbers.txt \n",
    "(Note: each number should be in new line)"
   ]
  },
  {
   "cell_type": "code",
   "execution_count": 88,
   "metadata": {},
   "outputs": [],
   "source": [
    "\n",
    "def is_prime(n):\n",
    "    if n <= 1:\n",
    "        return False\n",
    "    for i in range(2, int(n**0.5) + 1):\n",
    "        if n % i == 0:\n",
    "            return False\n",
    "    return True\n",
    "\n",
    "with open(\"primenumbers.txt\", \"w\") as file:\n",
    "    count = 0\n",
    "    number = 2\n",
    "    while count < 100:\n",
    "        if is_prime(number):\n",
    "            file.write(f\"{number}\\n\")\n",
    "            count += 1\n",
    "        number += 1\n",
    "\n",
    "print(\"The first 100 prime numbers have been written to primenumbers.txt\")\n"
   ]
  },
  {
   "cell_type": "markdown",
   "metadata": {},
   "source": [
    "### 11) WAP to merge two files and write it in a new file."
   ]
  },
  {
   "cell_type": "code",
   "execution_count": 95,
   "metadata": {},
   "outputs": [],
   "source": [
    "fp1 = open('f1.txt')\n",
    "fp = open('merged.txt', 'w')\n",
    "fp2 = open('marks.txt')\n",
    "\n",
    "fp.write(fp1.read())\n",
    "fp.write(fp2.read())\n",
    "\n",
    "fp1.close()\n",
    "fp.close()\n",
    "fp2.close()"
   ]
  },
  {
   "cell_type": "markdown",
   "metadata": {},
   "source": [
    "### 12) WAP to replace word1 by word2 of a text file. Write the updated data to new file."
   ]
  },
  {
   "cell_type": "code",
   "execution_count": 93,
   "metadata": {},
   "outputs": [],
   "source": [
    "fp = open('f1.txt', 'r')\n",
    "fp2 = open('f2.txt', 'w')\n",
    "\n",
    "word = 'harshu'\n",
    "\n",
    "for i in fp :\n",
    "    fp2.write(i.replace('viraj', word))"
   ]
  },
  {
   "cell_type": "markdown",
   "metadata": {},
   "source": [
    "### 13) Demonstrate tell() and seek() for all the cases(seek from beginning-end-current position) taking a suitable example of your choice."
   ]
  },
  {
   "cell_type": "code",
   "execution_count": 91,
   "metadata": {},
   "outputs": [
    {
     "name": "stdout",
     "output_type": "stream",
     "text": [
      "Before reading pointer is at: 0\n",
      "After reading 2 characters pointer is at: 2\n",
      "After reading 5 characters pointer is at: 5\n",
      "After going to the end of the file, pointer is at: 44\n",
      "Before reading: 0\n",
      "After reading 6 characters, pointer is at: 8\n",
      "After seeking pointer to beginning of the file: 0\n"
     ]
    }
   ],
   "source": [
    "# Opening the first file for reading\n",
    "fp = open(\"f1.txt\", \"r\")\n",
    "print(\"Before reading pointer is at:\", fp.tell())\n",
    "fp.read(2)\n",
    "print(\"After reading 2 characters pointer is at:\", fp.tell())\n",
    "fp.read(3)\n",
    "print(\"After reading 5 characters pointer is at:\", fp.tell())\n",
    "fp.read()\n",
    "print(\"After going to the end of the file, pointer is at:\", fp.tell())\n",
    "fp.close()\n",
    "\n",
    "# Opening the second file for reading\n",
    "fp = open(\"marks.txt\", \"r\")\n",
    "print(\"Before reading:\", fp.tell())\n",
    "fp.read(6)\n",
    "print(\"After reading 6 characters, pointer is at:\", fp.tell())\n",
    "fp.seek(0, 0)\n",
    "print(\"After seeking pointer to beginning of the file:\", fp.tell())\n",
    "fp.close()\n"
   ]
  },
  {
   "cell_type": "code",
   "execution_count": null,
   "metadata": {},
   "outputs": [],
   "source": []
  }
 ],
 "metadata": {
  "kernelspec": {
   "display_name": "Python 3 (ipykernel)",
   "language": "python",
   "name": "python3"
  },
  "language_info": {
   "codemirror_mode": {
    "name": "ipython",
    "version": 3
   },
   "file_extension": ".py",
   "mimetype": "text/x-python",
   "name": "python",
   "nbconvert_exporter": "python",
   "pygments_lexer": "ipython3",
   "version": "3.10.9"
  }
 },
 "nbformat": 4,
 "nbformat_minor": 4
}
