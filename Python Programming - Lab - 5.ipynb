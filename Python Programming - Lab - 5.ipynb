{
 "cells": [
  {
   "cell_type": "markdown",
   "metadata": {},
   "source": [
    "\n",
    "<a href='https://www.darshan.ac.in/'> <img src='https://www.darshan.ac.in/Content/media/DU_Logo.svg' width=\"250\" height=\"300\"/></a>\n",
    "<pre>\n",
    "<center><b><h1>Python Programming - 2301CS404</b></center>\n",
    "<center><b><h1>Lab - 5</b></center>    \n",
    "<pre>"
   ]
  },
  {
   "cell_type": "markdown",
   "metadata": {},
   "source": [
    "# List"
   ]
  },
  {
   "cell_type": "markdown",
   "metadata": {},
   "source": [
    "### 01) WAP to find sum of all the elements in a List."
   ]
  },
  {
   "cell_type": "code",
   "execution_count": 41,
   "metadata": {},
   "outputs": [
    {
     "name": "stdout",
     "output_type": "stream",
     "text": [
      "1158\n"
     ]
    }
   ],
   "source": [
    "l1 = [1,23,456,657,21]\n",
    "sum=0\n",
    "for i in l1:\n",
    "    sum+=i\n",
    "print(sum)\n",
    "\n"
   ]
  },
  {
   "cell_type": "markdown",
   "metadata": {},
   "source": [
    "### 02) WAP to find largest element in a List."
   ]
  },
  {
   "cell_type": "code",
   "execution_count": 4,
   "metadata": {},
   "outputs": [
    {
     "name": "stdout",
     "output_type": "stream",
     "text": [
      "657\n"
     ]
    }
   ],
   "source": [
    "maxy=0;\n",
    "for i in l1:\n",
    "    if i > maxy:\n",
    "        maxy=i\n",
    "print(maxy)"
   ]
  },
  {
   "cell_type": "markdown",
   "metadata": {},
   "source": [
    "### 03) WAP to find the length of a List."
   ]
  },
  {
   "cell_type": "code",
   "execution_count": 11,
   "metadata": {},
   "outputs": [
    {
     "name": "stdout",
     "output_type": "stream",
     "text": [
      "5\n"
     ]
    }
   ],
   "source": [
    "c=0;\n",
    "for i in l1:\n",
    "    c+=1\n",
    "print(c)\n",
    "    "
   ]
  },
  {
   "cell_type": "markdown",
   "metadata": {},
   "source": [
    "### 04) WAP to interchange first and last elements in a list."
   ]
  },
  {
   "cell_type": "code",
   "execution_count": 12,
   "metadata": {},
   "outputs": [
    {
     "name": "stdout",
     "output_type": "stream",
     "text": [
      "[21, 23, 456, 657, 1]\n"
     ]
    }
   ],
   "source": [
    "l1[0],l1[-1]=l1[-1],l1[0]\n",
    "print(l1)"
   ]
  },
  {
   "cell_type": "markdown",
   "metadata": {},
   "source": [
    "### 05) WAP to split the List into two parts and append the first part to the end."
   ]
  },
  {
   "cell_type": "code",
   "execution_count": 36,
   "metadata": {},
   "outputs": [
    {
     "name": "stdout",
     "output_type": "stream",
     "text": [
      "[6, 7, 56, 9, 1, 2, 3, 45]\n"
     ]
    }
   ],
   "source": [
    "li=[1,2,3,45,6,7,56,9]\n",
    "\n",
    "l3 = li[:len(li)//2]\n",
    "\n",
    "l4= li[len(li)//2:]+  l3\n",
    "print(l4)"
   ]
  },
  {
   "cell_type": "markdown",
   "metadata": {},
   "source": [
    "### 06) WAP to interchange the elements on two positions entered by a user."
   ]
  },
  {
   "cell_type": "code",
   "execution_count": 43,
   "metadata": {},
   "outputs": [
    {
     "name": "stdout",
     "output_type": "stream",
     "text": [
      "enter the index 1 = 1\n",
      "enter the index 2 = 5\n",
      "[1, 2, 3, 45, 6, 7, 56, 9, 455, 56, 5, 7, 6786876, 8]\n",
      "[1, 7, 3, 45, 6, 2, 56, 9, 455, 56, 5, 7, 6786876, 8]\n"
     ]
    }
   ],
   "source": [
    "l1=[1,2,3,45,6,7,56,9,455,56,5,7,6786876,8]\n",
    "a = int(input(\"enter the index 1 = \"))\n",
    "b = int(input(\"enter the index 2 = \"))\n",
    "\n",
    "print(l1)\n",
    "l1[a],l1[b]=l1[b],l1[a]\n",
    "print(l1)\n",
    "\n",
    "    \n"
   ]
  },
  {
   "cell_type": "markdown",
   "metadata": {},
   "source": [
    "### 07) WAP to reverse the list entered by user."
   ]
  },
  {
   "cell_type": "code",
   "execution_count": 59,
   "metadata": {},
   "outputs": [
    {
     "name": "stdout",
     "output_type": "stream",
     "text": [
      "entr the list4 45 \n",
      "[4, 45]\n",
      "[45, 4]\n"
     ]
    }
   ],
   "source": [
    "l7 =[int(i) for i in list(input(\"entr the list\").split())]\n",
    "print(l7)\n",
    "\n",
    "print(l7[::-1])"
   ]
  },
  {
   "cell_type": "code",
   "execution_count": null,
   "metadata": {},
   "outputs": [],
   "source": []
  },
  {
   "cell_type": "markdown",
   "metadata": {},
   "source": [
    "### 08) WAP to print even numbers in a list."
   ]
  },
  {
   "cell_type": "code",
   "execution_count": 67,
   "metadata": {},
   "outputs": [
    {
     "name": "stdout",
     "output_type": "stream",
     "text": [
      "[236, 78, 8, 0, 80, 0]\n"
     ]
    }
   ],
   "source": [
    "\n",
    "\n",
    "l1=[236,78,9,89,8,0,80,89,0]\n",
    "even= [i for i in l1 if i % 2==0]\n",
    "print(even)"
   ]
  },
  {
   "cell_type": "markdown",
   "metadata": {},
   "source": [
    "### 09) WAP to count unique items in a list."
   ]
  },
  {
   "cell_type": "code",
   "execution_count": 70,
   "metadata": {},
   "outputs": [
    {
     "name": "stdout",
     "output_type": "stream",
     "text": [
      "7\n"
     ]
    }
   ],
   "source": [
    "unique=set(l1)\n",
    "print(len(unique))\n"
   ]
  },
  {
   "cell_type": "markdown",
   "metadata": {},
   "source": [
    "### 10) WAP to copy a list."
   ]
  },
  {
   "cell_type": "code",
   "execution_count": 74,
   "metadata": {},
   "outputs": [
    {
     "name": "stdout",
     "output_type": "stream",
     "text": [
      "[236, 78, 9, 89, 8, 0, 80, 89, 0]\n"
     ]
    }
   ],
   "source": [
    "\n",
    "l2=l1.copy()\n",
    "print(l2)"
   ]
  },
  {
   "cell_type": "markdown",
   "metadata": {},
   "source": [
    "### 11) WAP to print all odd numbers in a given range."
   ]
  },
  {
   "cell_type": "code",
   "execution_count": 75,
   "metadata": {},
   "outputs": [
    {
     "name": "stdout",
     "output_type": "stream",
     "text": [
      "enter the range to find the odd number1\n",
      "enter the range to find the odd number5\n",
      "[9, 89, 89]\n"
     ]
    }
   ],
   "source": [
    "start = int(input(\"enter the range start number\"))\n",
    "end = int(input(\"enter the range end number\"))\n",
    "\n",
    "ans = [i for i in l1 if i % 2 !=0]\n",
    "print(ans)\n"
   ]
  },
  {
   "cell_type": "markdown",
   "metadata": {},
   "source": [
    "### 12) WAP to count occurrences of an element in a list."
   ]
  },
  {
   "cell_type": "code",
   "execution_count": 89,
   "metadata": {},
   "outputs": [
    {
     "name": "stdout",
     "output_type": "stream",
     "text": [
      "{1: 3, 2: 4, 3: 4, 12: 2, 23: 1, 4: 2}\n"
     ]
    }
   ],
   "source": [
    "li=[1,2,3,1,2,3,12,23,12,2,3,4,1,2,3,4]\n",
    "c=0\n",
    "ansdict = dict()\n",
    "for i in li :\n",
    "    if i not in ansdict:\n",
    "         ansdict[i]=1\n",
    "    else:\n",
    "        ansdict[i]+=1\n",
    "print(ansdict)"
   ]
  },
  {
   "cell_type": "markdown",
   "metadata": {},
   "source": [
    "### 13) WAP to find second largest number in a list."
   ]
  },
  {
   "cell_type": "code",
   "execution_count": 105,
   "metadata": {},
   "outputs": [
    {
     "name": "stdout",
     "output_type": "stream",
     "text": [
      "25\n"
     ]
    }
   ],
   "source": [
    "li=[1,2,3,1,2,3,12,23,12,12,18,25,63,2,3,4,1,2,3,4]\n",
    "maxelement = 0;\n",
    "secondmax= 0;\n",
    " \n",
    "for i in li:\n",
    "    if i > maxelement:\n",
    "        secondmax= maxelement\n",
    "        maxelement=i\n",
    "    elif  i > secondmax and maxelement > i:\n",
    "        secondmax=i\n",
    "print(secondmax)\n",
    "        \n",
    "   "
   ]
  },
  {
   "cell_type": "markdown",
   "metadata": {},
   "source": [
    "### 14) WAP to extract elements with frequency greater than K."
   ]
  },
  {
   "cell_type": "code",
   "execution_count": 123,
   "metadata": {},
   "outputs": [
    {
     "name": "stdout",
     "output_type": "stream",
     "text": [
      "eneter the frequency 2\n",
      "1\n",
      "2\n",
      "3\n",
      "12\n"
     ]
    }
   ],
   "source": [
    "li=[1,2,3,1,2,3,12,23,12,12,18,25,63,2,3,4,1,2,3,4]\n",
    "freq = int(input(\"eneter the frequency \"))\n",
    "ansdict=dict()\n",
    "for i in li :\n",
    "    if i not in ansdict:\n",
    "         ansdict[i]=1\n",
    "    else:\n",
    "        ansdict[i]+=1\n",
    "\n",
    "for i , j  in ansdict.items():\n",
    "    if j > freq :\n",
    "        print(i)\n",
    "            \n",
    "            "
   ]
  },
  {
   "cell_type": "markdown",
   "metadata": {},
   "source": [
    "### 15) WAP to create a list of squared numbers from 0 to 9 with and without using List Comprehension."
   ]
  },
  {
   "cell_type": "code",
   "execution_count": 122,
   "metadata": {},
   "outputs": [
    {
     "name": "stdout",
     "output_type": "stream",
     "text": [
      "0 1 4 9 16 25 36 49 64 81 [0, 1, 4, 9, 16, 25, 36, 49, 64, 81]\n"
     ]
    }
   ],
   "source": [
    "sqr = [i**2 for i in range(0,10)]\n",
    "\n",
    "for i in range(0,10):\n",
    "    print(i**2,end=' ')\n",
    "\n",
    "print(sqr)"
   ]
  },
  {
   "cell_type": "markdown",
   "metadata": {},
   "source": [
    "### 16) WAP to create a new list (fruit whose name starts with 'b') from the list of fruits given by user."
   ]
  },
  {
   "cell_type": "code",
   "execution_count": 119,
   "metadata": {
    "scrolled": true
   },
   "outputs": [
    {
     "name": "stdout",
     "output_type": "stream",
     "text": [
      "['ba', 'bbf', 'bfghf']\n"
     ]
    }
   ],
   "source": [
    "fruit =['sad','ba','bbf','bfghf'] \n",
    "ans=[]\n",
    "for i in fruit:\n",
    "    if i.startswith('b'):\n",
    "        ans.append(i)\n",
    "print(ans)"
   ]
  },
  {
   "cell_type": "markdown",
   "metadata": {},
   "source": [
    "### 17) WAP to create a list of common elements from given two lists."
   ]
  },
  {
   "cell_type": "code",
   "execution_count": 118,
   "metadata": {},
   "outputs": [
    {
     "name": "stdout",
     "output_type": "stream",
     "text": [
      "{1, 2, 3, 34, 5, 46}\n"
     ]
    }
   ],
   "source": [
    "l1 =  [1,2,34,3,4,4,5,2,46,5467,5765,7657,67]\n",
    "l2 =[4356,46,5,32,1,213,2,3,213,34,2,31,3,32,3,3]\n",
    "\n",
    "ans = set(l1)&set(l2)\n",
    "print(ans)"
   ]
  },
  {
   "cell_type": "code",
   "execution_count": null,
   "metadata": {},
   "outputs": [],
   "source": []
  }
 ],
 "metadata": {
  "kernelspec": {
   "display_name": "Python 3 (ipykernel)",
   "language": "python",
   "name": "python3"
  },
  "language_info": {
   "codemirror_mode": {
    "name": "ipython",
    "version": 3
   },
   "file_extension": ".py",
   "mimetype": "text/x-python",
   "name": "python",
   "nbconvert_exporter": "python",
   "pygments_lexer": "ipython3",
   "version": "3.10.9"
  }
 },
 "nbformat": 4,
 "nbformat_minor": 4
}
