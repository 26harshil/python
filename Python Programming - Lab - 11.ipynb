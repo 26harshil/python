{
 "cells": [
  {
   "cell_type": "markdown",
   "metadata": {},
   "source": [
    "<a href='https://www.darshan.ac.in/'> <img src='https://www.darshan.ac.in/Content/media/DU_Logo.svg' width=\"250\" height=\"300\"/></a>\n",
    "<pre>\n",
    "<center><b><h1>Python Programming - 2301CS404</b></center>\n",
    "<center><b><h1>Lab - 11</b></center>    \n",
    "<pre>"
   ]
  },
  {
   "cell_type": "markdown",
   "metadata": {},
   "source": [
    "# Modules"
   ]
  },
  {
   "cell_type": "markdown",
   "metadata": {},
   "source": [
    "### 01) WAP to create Calculator module which defines functions like add, sub,mul and div. \n",
    "### Create another .py file that uses the functions available in Calculator module."
   ]
  },
  {
   "cell_type": "code",
   "execution_count": 40,
   "metadata": {},
   "outputs": [
    {
     "name": "stdout",
     "output_type": "stream",
     "text": [
      "5\n",
      "-1\n",
      "6\n",
      "0.6666666666666666\n"
     ]
    }
   ],
   "source": [
    "import  Calculator as c\n",
    "\n",
    "print(c.add(2,3))\n",
    "print(c.sub(2,3))\n",
    "print(c.mul(2,3))\n",
    "print(c.div(2,3))\n",
    "\n",
    "\n",
    "\n"
   ]
  },
  {
   "cell_type": "markdown",
   "metadata": {},
   "source": [
    "### 02) WAP to pick a random character from a given String."
   ]
  },
  {
   "cell_type": "code",
   "execution_count": 5,
   "metadata": {},
   "outputs": [
    {
     "name": "stdout",
     "output_type": "stream",
     "text": [
      "e\n"
     ]
    }
   ],
   "source": [
    "import random as r\n",
    "print(r.choice(\"hello\"))\n"
   ]
  },
  {
   "cell_type": "markdown",
   "metadata": {},
   "source": [
    "### 03) WAP to pick a random element from a given list."
   ]
  },
  {
   "cell_type": "code",
   "execution_count": 52,
   "metadata": {},
   "outputs": [
    {
     "name": "stdout",
     "output_type": "stream",
     "text": [
      "manxeel\n"
     ]
    }
   ],
   "source": [
    "l1=['dasd0','sdsadsad','manxeel','asdsdsdasd']\n",
    "print(r.choice(l1))"
   ]
  },
  {
   "cell_type": "markdown",
   "metadata": {},
   "source": [
    "### 04) WAP to roll a dice in such a way that every time you get the same number."
   ]
  },
  {
   "cell_type": "code",
   "execution_count": 84,
   "metadata": {},
   "outputs": [
    {
     "name": "stdout",
     "output_type": "stream",
     "text": [
      "4\n"
     ]
    }
   ],
   "source": [
    "r.seed(0)\n",
    "print(r.choice(range(1,6)))\n",
    "\n"
   ]
  },
  {
   "cell_type": "markdown",
   "metadata": {},
   "source": [
    "\n",
    "### 05) WAP to generate 3 random integers between 100 and 999 which is divisible by 5."
   ]
  },
  {
   "cell_type": "code",
   "execution_count": 7,
   "metadata": {},
   "outputs": [
    {
     "name": "stdout",
     "output_type": "stream",
     "text": [
      "655\n",
      "725\n",
      "680\n"
     ]
    }
   ],
   "source": [
    "a=[i for i in range(100,999) if i % 5 ==0]\n",
    "print(r.choice(a))\n",
    "print(r.choice(a))\n",
    "print(r.choice(a))"
   ]
  },
  {
   "cell_type": "markdown",
   "metadata": {},
   "source": [
    "### 06) WAP to generate 100 random lottery tickets and pick two lucky tickets from it and announce them as Winner and Runner up respectively."
   ]
  },
  {
   "cell_type": "code",
   "execution_count": 12,
   "metadata": {},
   "outputs": [
    {
     "name": "stdout",
     "output_type": "stream",
     "text": [
      "The Winner is: Ticket27\n",
      "The Runner-Up is: Ticket79\n"
     ]
    }
   ],
   "source": [
    "import random\n",
    "\n",
    "\n",
    "lottery_tickets = [f\"Ticket{random.randint(1, 101)}\" for _ in range(100)]\n",
    "\n",
    "\n",
    "winner_ticket = random.choice(lottery_tickets)\n",
    "lottery_tickets.remove(winner_ticket)  # Remove the winner from the list\n",
    "\n",
    "runner_up_ticket = random.choice(lottery_tickets)\n",
    "\n",
    "\n",
    "print(\"The Winner is: \", winner_ticket)\n",
    "print(\"The Runner-Up is: \", runner_up_ticket)\n"
   ]
  },
  {
   "cell_type": "markdown",
   "metadata": {},
   "source": [
    "### 07) WAP to print current date and time in Python."
   ]
  },
  {
   "cell_type": "code",
   "execution_count": 13,
   "metadata": {},
   "outputs": [
    {
     "name": "stdout",
     "output_type": "stream",
     "text": [
      "2025-02-19 05:15:37.825081\n"
     ]
    }
   ],
   "source": [
    "import datetime as d\n",
    "print(d.datetime.now())"
   ]
  },
  {
   "cell_type": "markdown",
   "metadata": {},
   "source": [
    "### 08) Subtract a week (7 days) from a given date in Python."
   ]
  },
  {
   "cell_type": "code",
   "execution_count": 15,
   "metadata": {},
   "outputs": [
    {
     "name": "stdout",
     "output_type": "stream",
     "text": [
      "2025-02-12 05:17:34.411126\n"
     ]
    }
   ],
   "source": [
    "import datetime\n",
    "\n",
    "current_datetime = datetime.datetime.now()\n",
    "\n",
    "one_week_ago = current_datetime - datetime.timedelta(weeks=1)\n",
    "\n",
    "\n",
    "print(one_week_ago)\n"
   ]
  },
  {
   "cell_type": "markdown",
   "metadata": {},
   "source": [
    "### 09) WAP to Calculate number of days between two given dates."
   ]
  },
  {
   "cell_type": "code",
   "execution_count": 17,
   "metadata": {},
   "outputs": [
    {
     "name": "stdout",
     "output_type": "stream",
     "text": [
      "Enter the first date (YYYY-MM-DD): 2025-02-23\n",
      "Enter the second date (YYYY-MM-DD): 2056-03-23\n",
      "The number of days between 2025-02-23 and 2056-03-23 is: 11351 days\n"
     ]
    }
   ],
   "source": [
    "from datetime import datetime\n",
    "\n",
    "\n",
    "date_str1 = input(\"Enter the first date (YYYY-MM-DD): \")\n",
    "date_str2 = input(\"Enter the second date (YYYY-MM-DD): \")\n",
    "\n",
    "\n",
    "date1 = datetime.strptime(date_str1, \"%Y-%m-%d\")\n",
    "date2 = datetime.strptime(date_str2, \"%Y-%m-%d\")\n",
    "\n",
    "\n",
    "date_difference = abs(date2 - date1)\n",
    "\n",
    "print(f\"The number of days between {date_str1} and {date_str2} is: {date_difference.days} days\")\n"
   ]
  },
  {
   "cell_type": "code",
   "execution_count": null,
   "metadata": {},
   "outputs": [],
   "source": []
  },
  {
   "cell_type": "markdown",
   "metadata": {},
   "source": [
    "### 10) WAP to Find the day of the week of a given date.(i.e. wether it is sunday/monday/tuesday/etc.)"
   ]
  },
  {
   "cell_type": "code",
   "execution_count": 18,
   "metadata": {},
   "outputs": [
    {
     "name": "stdout",
     "output_type": "stream",
     "text": [
      "Enter the date (YYYY-MM-DD): 2024-09-26\n",
      "The day of the week for 2024-09-26 is: Thursday\n"
     ]
    }
   ],
   "source": [
    "from datetime import datetime\n",
    "date_str = input(\"Enter the date (YYYY-MM-DD): \")\n",
    "\n",
    "date_obj = datetime.strptime(date_str, \"%Y-%m-%d\")\n",
    "\n",
    "\n",
    "day_of_week = date_obj.strftime(\"%A\")\n",
    "\n",
    "\n",
    "print(f\"The day of the week for {date_str} is: {day_of_week}\")\n"
   ]
  },
  {
   "cell_type": "markdown",
   "metadata": {},
   "source": [
    "### 11) WAP to demonstrate the use of date time module."
   ]
  },
  {
   "cell_type": "code",
   "execution_count": 19,
   "metadata": {},
   "outputs": [
    {
     "name": "stdout",
     "output_type": "stream",
     "text": [
      "Current date and time: 2025-02-19 05:29:24.236618\n",
      "Current date: 2025-02-19\n",
      "Current time: 05:29:24.237620\n",
      "Specific date: 2025-05-12\n",
      "Difference between 2025-02-19 and 2025-02-01 is: 18 days\n",
      "New date after adding 10 days: 2025-02-11\n",
      "Formatted date: Wednesday, February 19, 2025\n",
      "Parsed date from string: 2025-03-10\n",
      "Day of the week: Wednesday\n",
      "Current time in 24-hour format: 05:29:24\n"
     ]
    }
   ],
   "source": [
    "import datetime\n",
    "\n",
    "current_datetime = datetime.datetime.now()\n",
    "print(f\"Current date and time: {current_datetime}\")\n",
    "\n",
    "current_date = datetime.date.today()\n",
    "print(f\"Current date: {current_date}\")\n",
    "\n",
    "\n",
    "current_time = datetime.datetime.now().time()\n",
    "print(f\"Current time: {current_time}\")\n",
    "\n",
    "specific_date = datetime.date(2025, 5, 12) \n",
    "print(f\"Specific date: {specific_date}\")\n",
    "\n",
    "date1 = datetime.date(2025, 2, 1)\n",
    "date2 = datetime.date(2025, 2, 19)\n",
    "date_difference = date2 - date1\n",
    "print(f\"Difference between {date2} and {date1} is: {date_difference.days} days\")\n",
    "\n",
    "days_to_add = datetime.timedelta(days=10)\n",
    "new_date = date1 + days_to_add\n",
    "print(f\"New date after adding 10 days: {new_date}\")\n",
    "\n",
    "formatted_date = current_datetime.strftime(\"%A, %B %d, %Y\")\n",
    "print(f\"Formatted date: {formatted_date}\")\n",
    "\n",
    "date_string = \"2025-03-10\"\n",
    "parsed_date = datetime.datetime.strptime(date_string, \"%Y-%m-%d\")\n",
    "print(f\"Parsed date from string: {parsed_date.date()}\")\n",
    "\n",
    "day_of_week = current_datetime.strftime(\"%A\")\n",
    "print(f\"Day of the week: {day_of_week}\")\n",
    "\n",
    "current_time_24hr = current_datetime.strftime(\"%H:%M:%S\")\n",
    "print(f\"Current time in 24-hour format: {current_time_24hr}\")\n"
   ]
  },
  {
   "cell_type": "markdown",
   "metadata": {},
   "source": [
    "### 12) WAP to demonstrate the use of the math module."
   ]
  },
  {
   "cell_type": "code",
   "execution_count": null,
   "metadata": {},
   "outputs": [],
   "source": [
    "import math\n",
    "\n",
    "number = 16\n",
    "sqrt_value = math.sqrt(number)\n",
    "print(f\"Square root of {number}: {sqrt_value}\")\n",
    "\n",
    "factorial_value = math.factorial(5)\n",
    "print(f\"Factorial of 5: {factorial_value}\")\n",
    "\n",
    "\n",
    "pi_value = math.pi\n",
    "print(f\"Value of pi: {pi_value}\")\n",
    "\n",
    "angle = math.radians(30)  # Convert 30 degrees to radians\n",
    "sine_value = math.sin(angle)\n",
    "cosine_value = math.cos(angle)\n",
    "tangent_value = math.tan(angle)\n",
    "print(f\"Sine of 30°: {sine_value}\")\n",
    "print(f\"Cosine of 30°: {cosine_value}\")\n",
    "print(f\"Tangent of 30°: {tangent_value}\")\n",
    "\n",
    "\n",
    "log_value = math.log(10)  # Natural logarithm (base e)\n",
    "print(f\"Natural logarithm of 10: {log_value}\")\n",
    "\n",
    "\n",
    "log_base_2 = math.log(16, 2)  # Logarithm of 16 with base 2\n",
    "print(f\"Logarithm of 16 with base 2: {log_base_2}\")\n",
    "\n",
    "gcd_value = math.gcd(56, 98)\n",
    "print(f\"GCD of 56 and 98: {gcd_value}\")\n",
    "\n",
    "\n",
    "floor_value = math.floor(5.7)\n",
    "print(f\"Floor of 5.7: {floor_value}\")\n",
    "\n",
    "ceil_value = math.ceil(5.7)\n",
    "print(f\"Ceil of 5.7: {ceil_value}\")\n",
    "\n",
    "power_value = math.pow(2, 3)  # 2 raised to the power of 3\n",
    "print(f\"2 raised to the power of 3: {power_value}\")\n"
   ]
  }
 ],
 "metadata": {
  "kernelspec": {
   "display_name": "Python 3 (ipykernel)",
   "language": "python",
   "name": "python3"
  },
  "language_info": {
   "codemirror_mode": {
    "name": "ipython",
    "version": 3
   },
   "file_extension": ".py",
   "mimetype": "text/x-python",
   "name": "python",
   "nbconvert_exporter": "python",
   "pygments_lexer": "ipython3",
   "version": "3.10.9"
  }
 },
 "nbformat": 4,
 "nbformat_minor": 4
}
