{
 "cells": [
  {
   "cell_type": "markdown",
   "metadata": {},
   "source": [
    "<a href='https://www.darshan.ac.in/'> <img src='https://www.darshan.ac.in/Content/media/DU_Logo.svg' width=\"250\" height=\"300\"/></a>\n",
    "<pre>\n",
    "<center><b><h1>Python Programming - 2301CS404</b></center>\n",
    "<center><b><h1>Lab - 10</b></center>    \n",
    "<pre>"
   ]
  },
  {
   "cell_type": "markdown",
   "metadata": {},
   "source": [
    "# Exception Handling"
   ]
  },
  {
   "cell_type": "markdown",
   "metadata": {},
   "source": [
    "### 01) WAP to handle following exceptions:\n",
    "1. ZeroDivisionError\n",
    "2. ValueError\n",
    "3. TypeError\n",
    "#### Note: handle them using separate except blocks and also using single except block too."
   ]
  },
  {
   "cell_type": "code",
   "execution_count": 8,
   "metadata": {},
   "outputs": [
    {
     "name": "stdout",
     "output_type": "stream",
     "text": [
      "enter the the number one : 231\n",
      "enter the the number two : sdfsd\n",
      "ValueError\n"
     ]
    }
   ],
   "source": [
    "num1 = input(\"enter the the number one : \")\n",
    "num2 = input(\"enter the the number two : \")\n",
    "\n",
    "try:\n",
    "    print(int(num1) /int(num2))\n",
    "except ZeroDivisionError:\n",
    "    print(\"it is ZeroDivisionError\")\n",
    "except ValueError:\n",
    "    print(\"ValueError\")\n",
    "except TypeError:\n",
    "    print(\"TypeError\")\n"
   ]
  },
  {
   "cell_type": "markdown",
   "metadata": {},
   "source": [
    "\n",
    "### 02)  WAP to handle following exceptions:\n",
    "1. IndexError\n",
    "2. KeyError"
   ]
  },
  {
   "cell_type": "code",
   "execution_count": 25,
   "metadata": {},
   "outputs": [
    {
     "name": "stdout",
     "output_type": "stream",
     "text": [
      "KeyError\n"
     ]
    }
   ],
   "source": [
    "t1={1:\"manav\",2:\"jasmin\"}\n",
    "li=[1521,12,56,145,5,15,1,1,212,12,111514484,8,48,4,748]\n",
    "\n",
    "\n",
    "try:\n",
    "    #index error\n",
    "    #print(li[565])\n",
    "    \n",
    "    #key error\n",
    "    print(t1[3])\n",
    "except IndexError:\n",
    "    print(\"IndexError\")\n",
    "except KeyError:\n",
    "    print(\"KeyError\")\n",
    "    \n",
    "    \n",
    "    "
   ]
  },
  {
   "cell_type": "markdown",
   "metadata": {},
   "source": [
    "### 03) WAP to handle following exceptions:\n",
    "1. FileNotFoundError\n",
    "2. ModuleNotFoundError"
   ]
  },
  {
   "cell_type": "code",
   "execution_count": 22,
   "metadata": {},
   "outputs": [
    {
     "name": "stdout",
     "output_type": "stream",
     "text": [
      "ModuleNotFoundError\n"
     ]
    }
   ],
   "source": [
    "\n",
    "try:\n",
    "    #ModuleNotFoundError\n",
    "    #import nfdjksanfsaasn\n",
    "    \n",
    "    #filennotFound\n",
    "    fp =open('mask.txt')\n",
    "except FileNotFoundError:\n",
    "    print(\"FileNotFoundError\")\n",
    "except ModuleNotFoundError:\n",
    "    print(\"ModuleNotFoundError\")"
   ]
  },
  {
   "cell_type": "markdown",
   "metadata": {},
   "source": [
    "### 04) WAP that catches all type of exceptions in a single except block."
   ]
  },
  {
   "cell_type": "code",
   "execution_count": 23,
   "metadata": {},
   "outputs": [
    {
     "name": "stdout",
     "output_type": "stream",
     "text": [
      "error has occured\n"
     ]
    }
   ],
   "source": [
    "try :\n",
    "    print(10/0)\n",
    "except :\n",
    "    print(\"error has occured\")\n",
    "    "
   ]
  },
  {
   "cell_type": "markdown",
   "metadata": {},
   "source": [
    "### 05) WAP to demonstrate else  and finally block."
   ]
  },
  {
   "cell_type": "code",
   "execution_count": 29,
   "metadata": {},
   "outputs": [
    {
     "name": "stdout",
     "output_type": "stream",
     "text": [
      "error ocured in this code\n",
      "the code is completed\n"
     ]
    }
   ],
   "source": [
    "try:\n",
    "    a=23/0\n",
    "    print(a)\n",
    "except :\n",
    "    print(\"error ocured in this code\")\n",
    "else:\n",
    "    print(\"no error and the ans\",a)\n",
    "finally :\n",
    "    print(\"the code is completed\")"
   ]
  },
  {
   "cell_type": "markdown",
   "metadata": {},
   "source": [
    "### 06) Create a short program that prompts the user for a list of grades separated by commas. \n",
    "### Split the string into individual grades and use a list comprehension to convert each string to an integer. \n",
    "### You should use a try statement to inform the user when the values they entered cannot be converted."
   ]
  },
  {
   "cell_type": "code",
   "execution_count": 41,
   "metadata": {},
   "outputs": [
    {
     "name": "stdout",
     "output_type": "stream",
     "text": [
      "enter the number stringfdgdf, dfgfdg ,gdfg\n",
      "invalid literal for int() with base 10: 'fdgdf'\n"
     ]
    }
   ],
   "source": [
    "l1=input(\"enter the number string :\").split(',')\n",
    "try:\n",
    "    l2 =[int(i) for i in l1]\n",
    "except Exception as e:\n",
    "    print(e)\n",
    "else:\n",
    "    print(l2)\n",
    "    \n",
    "\n"
   ]
  },
  {
   "cell_type": "markdown",
   "metadata": {},
   "source": [
    "### 07) WAP to create an udf divide(a,b) that handles ZeroDivisionError."
   ]
  },
  {
   "cell_type": "code",
   "execution_count": 42,
   "metadata": {},
   "outputs": [
    {
     "name": "stdout",
     "output_type": "stream",
     "text": [
      "it is ZeroDivisionError\n"
     ]
    }
   ],
   "source": [
    "def div(a,b):\n",
    "    print(a/b)\n",
    "try:\n",
    "    div(10,0)\n",
    "except ZeroDivisionError:\n",
    "    print(\"it is ZeroDivisionError\")\n",
    "    "
   ]
  },
  {
   "cell_type": "markdown",
   "metadata": {},
   "source": [
    "### 08) WAP that gets an age of a person form the user and raises ValueError with error message: \"Enter Valid Age\" :\n",
    "#### If the age is less than 18. \n",
    "#### otherwise print the age."
   ]
  },
  {
   "cell_type": "code",
   "execution_count": 70,
   "metadata": {},
   "outputs": [
    {
     "name": "stdout",
     "output_type": "stream",
     "text": [
      "enter the age 2\n",
      "user shopuld be 18+\n"
     ]
    }
   ],
   "source": [
    "age = int(input(\"enter the age \"))\n",
    "\n",
    "try :\n",
    "    if age < 18:\n",
    "        raise ValueError\n",
    "except ValueError:\n",
    "    print(\"user shopuld be 18+\")\n",
    "else:\n",
    "    print(age)"
   ]
  },
  {
   "cell_type": "markdown",
   "metadata": {},
   "source": [
    "### 09) WAP to raise your custom Exception named InvalidUsernameError with the error message : \"Username must be between 5 and 15 characters long\":\n",
    "#### if the given name is having characters less than 5 or greater than 15.\n",
    "#### otherwise print the given username."
   ]
  },
  {
   "cell_type": "code",
   "execution_count": 54,
   "metadata": {},
   "outputs": [
    {
     "name": "stdout",
     "output_type": "stream",
     "text": [
      "enter the name of the usera\n",
      "if the given name is having characters less than 5 or greater than 15.\n"
     ]
    }
   ],
   "source": [
    "name = input(\"enter the name of the user\")\n",
    "\n",
    "class InvalidUsernameError(Exception):\n",
    "    pass\n",
    "    \n",
    "try:\n",
    "    if len(name)<5 or len(name)>15:\n",
    "        raise InvalidUsernameError\n",
    "except InvalidUsernameError :\n",
    "    print(\"if the given name is having characters less than 5 or greater than 15.\")\n",
    "else:\n",
    "    print(name)\n",
    "        "
   ]
  },
  {
   "cell_type": "markdown",
   "metadata": {},
   "source": [
    "### 10) WAP to raise your custom Exception named NegativeNumberError with the error message : \"Cannot calculate the square root of a negative number\" :\n",
    "#### if the given number is negative.\n",
    "#### otherwise print the square root of the given number."
   ]
  },
  {
   "cell_type": "code",
   "execution_count": 65,
   "metadata": {},
   "outputs": [
    {
     "name": "stdout",
     "output_type": "stream",
     "text": [
      "enter the number of you want to root : 5\n",
      "2.23606797749979\n"
     ]
    }
   ],
   "source": [
    "\n",
    "root= int(input(\"enter the number of you want to root : \"))\n",
    "class NegativeNumberError(Exception):\n",
    "    pass\n",
    "try:\n",
    "    if root <0:\n",
    "        raise NegativeNumberError\n",
    "except NegativeNumberError:\n",
    "    print(\"your enter value hase a negative root\")\n",
    "else:\n",
    "    print(root**0.5)\n",
    "    "
   ]
  },
  {
   "cell_type": "code",
   "execution_count": null,
   "metadata": {},
   "outputs": [],
   "source": []
  }
 ],
 "metadata": {
  "kernelspec": {
   "display_name": "Python 3 (ipykernel)",
   "language": "python",
   "name": "python3"
  },
  "language_info": {
   "codemirror_mode": {
    "name": "ipython",
    "version": 3
   },
   "file_extension": ".py",
   "mimetype": "text/x-python",
   "name": "python",
   "nbconvert_exporter": "python",
   "pygments_lexer": "ipython3",
   "version": "3.10.9"
  }
 },
 "nbformat": 4,
 "nbformat_minor": 4
}
